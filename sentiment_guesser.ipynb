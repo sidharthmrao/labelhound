{
 "cells": [
  {
   "cell_type": "code",
   "execution_count": 12,
   "metadata": {
    "collapsed": true,
    "pycharm": {
     "name": "#%%\n"
    }
   },
   "outputs": [
    {
     "name": "stdout",
     "output_type": "stream",
     "text": [
      "Keras model archive loading:\n",
      "File Name                                             Modified             Size\n",
      "variables.h5                                   2022-12-20 00:41:40      2001384\n",
      "config.json                                    2022-12-20 00:41:40         2552\n",
      "metadata.json                                  2022-12-20 00:41:40           64\n",
      "Keras weights file (<HDF5 file \"variables.h5\" (mode r)>) loading:\n",
      "...layers\n",
      "......dense\n",
      ".........vars\n",
      "............0\n",
      "............1\n",
      "......dense_1\n",
      ".........vars\n",
      "............0\n",
      "............1\n",
      "......dense_2\n",
      ".........vars\n",
      "............0\n",
      "............1\n",
      "......dropout\n",
      ".........vars\n",
      "......dropout_1\n",
      ".........vars\n",
      "...metrics\n",
      "......mean\n",
      ".........vars\n",
      "............0\n",
      "............1\n",
      "......mean_metric_wrapper\n",
      ".........vars\n",
      "............0\n",
      "............1\n",
      "...optimizer\n",
      "......vars\n",
      ".........0\n",
      ".........1\n",
      ".........10\n",
      ".........11\n",
      ".........12\n",
      ".........2\n",
      ".........3\n",
      ".........4\n",
      ".........5\n",
      ".........6\n",
      ".........7\n",
      ".........8\n",
      ".........9\n",
      "...vars\n"
     ]
    }
   ],
   "source": [
    "import pickle\n",
    "import tensorflow_hub as hub\n",
    "from tqdm import tqdm\n",
    "import tensorflow_text\n",
    "import numpy as np\n",
    "import tensorflow as tf\n",
    "import pandas as pd\n",
    "\n",
    "file = open(\"models/model_3.pickle\", \"rb\")\n",
    "model = pickle.load(file)\n",
    "file.close()\n",
    "\n",
    "use = hub.load(\"https://tfhub.dev/google/universal-sentence-encoder-multilingual-large/3\")"
   ]
  },
  {
   "cell_type": "code",
   "execution_count": 15,
   "outputs": [
    {
     "name": "stdout",
     "output_type": "stream",
     "text": [
      "1/1 [==============================] - 0s 488ms/step\n"
     ]
    },
    {
     "data": {
      "text/plain": "{'Twitter is horrible.': 'NEGATIVE',\n 'I love twitter!': 'POSITIVE',\n 'I dunno :(': 'NEGATIVE',\n 'bahaha': 'POSITIVE',\n 'Starlink now has more than 1,000,000 active subscribers – thank you to all customers and members of the Starlink team who contributed to this': 'POSITIVE',\n 'Those who want power are the ones who least deserve it': 'POSITIVE',\n 'Should I step down from twitter?': 'NEGATIVE'}"
     },
     "execution_count": 15,
     "metadata": {},
     "output_type": "execute_result"
    }
   ],
   "source": [
    "def evaluate_multiple(strings: list):\n",
    "    data_to_test = np.array(strings)\n",
    "\n",
    "    i_want_this_tested = []\n",
    "    for r in data_to_test:\n",
    "        emb = use(r)\n",
    "        review_emb = tf.reshape(emb, [-1]).numpy()\n",
    "        i_want_this_tested.append(review_emb)\n",
    "    i_want_this_tested = np.array(i_want_this_tested)\n",
    "\n",
    "    return list(model.predict(i_want_this_tested))\n",
    "\n",
    "\n",
    "def evaluate_single(single: str):\n",
    "    return evaluate_multiple([single])\n",
    "\n",
    "\n",
    "desired_strings = [\"Twitter is horrible.\", \"I love twitter!\", \"I dunno :(\", \"bahaha\", \"Starlink now has more than 1,000,000 active subscribers – thank you to all customers and members of the Starlink team who contributed to this\", \"Those who want power are the ones who least deserve it\", \"Should I step down from twitter?\"]\n",
    "\n",
    "evaluated = evaluate_multiple(desired_strings)\n",
    "\n",
    "output = {}\n",
    "for i in range(len(desired_strings)):\n",
    "    output[desired_strings[i]] = \"POSITIVE\" if evaluated[i].argmax() == 1 else \"NEGATIVE\"\n",
    "\n",
    "output"
   ],
   "metadata": {
    "collapsed": false,
    "pycharm": {
     "name": "#%%\n"
    }
   }
  },
  {
   "cell_type": "code",
   "execution_count": 9,
   "outputs": [
    {
     "ename": "NameError",
     "evalue": "name 'pd' is not defined",
     "output_type": "error",
     "traceback": [
      "\u001B[0;31m---------------------------------------------------------------------------\u001B[0m",
      "\u001B[0;31mNameError\u001B[0m                                 Traceback (most recent call last)",
      "Cell \u001B[0;32mIn[9], line 1\u001B[0m\n\u001B[0;32m----> 1\u001B[0m \u001B[43mpd\u001B[49m\u001B[38;5;241m.\u001B[39mDataFrame(\n\u001B[1;32m      2\u001B[0m     {\n\u001B[1;32m      3\u001B[0m         \u001B[38;5;124m\"\u001B[39m\u001B[38;5;124mtweet\u001B[39m\u001B[38;5;124m\"\u001B[39m: [\u001B[38;5;124m\"\u001B[39m\u001B[38;5;124mhello\u001B[39m\u001B[38;5;124m\"\u001B[39m, \u001B[38;5;124m\"\u001B[39m\u001B[38;5;124mi despise you\u001B[39m\u001B[38;5;124m\"\u001B[39m],\n\u001B[1;32m      4\u001B[0m         \u001B[38;5;124m\"\u001B[39m\u001B[38;5;124mdate\u001B[39m\u001B[38;5;124m\"\u001B[39m: [\u001B[38;5;124m\"\u001B[39m\u001B[38;5;124m1,2,3\u001B[39m\u001B[38;5;124m\"\u001B[39m, \u001B[38;5;124m\"\u001B[39m\u001B[38;5;124m4,5,6\u001B[39m\u001B[38;5;124m\"\u001B[39m],\n\u001B[1;32m      5\u001B[0m         \u001B[38;5;124m\"\u001B[39m\u001B[38;5;124muser\u001B[39m\u001B[38;5;124m\"\u001B[39m: [\u001B[38;5;124m\"\u001B[39m\u001B[38;5;124mdeez\u001B[39m\u001B[38;5;124m\"\u001B[39m, \u001B[38;5;124m\"\u001B[39m\u001B[38;5;124mnas\u001B[39m\u001B[38;5;124m\"\u001B[39m]\n\u001B[1;32m      6\u001B[0m     }\n\u001B[1;32m      7\u001B[0m )\n",
      "\u001B[0;31mNameError\u001B[0m: name 'pd' is not defined"
     ]
    }
   ],
   "source": [
    "pd.DataFrame(\n",
    "    {\n",
    "        \"tweet\": [\"hello\", \"i despise you\"],\n",
    "        \"date\": [\"1,2,3\", \"4,5,6\"],\n",
    "        \"user\": [\"deez\", \"nas\"]\n",
    "    }\n",
    ")"
   ],
   "metadata": {
    "collapsed": false,
    "pycharm": {
     "name": "#%%\n"
    }
   }
  }
 ],
 "metadata": {
  "kernelspec": {
   "display_name": "Python 3",
   "language": "python",
   "name": "python3"
  },
  "language_info": {
   "codemirror_mode": {
    "name": "ipython",
    "version": 2
   },
   "file_extension": ".py",
   "mimetype": "text/x-python",
   "name": "python",
   "nbconvert_exporter": "python",
   "pygments_lexer": "ipython2",
   "version": "2.7.6"
  }
 },
 "nbformat": 4,
 "nbformat_minor": 0
}