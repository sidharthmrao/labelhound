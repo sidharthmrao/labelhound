{
 "cells": [
  {
   "cell_type": "code",
   "execution_count": 83,
   "metadata": {
    "collapsed": true,
    "pycharm": {
     "name": "#%%\n"
    }
   },
   "outputs": [],
   "source": [
    "import re\n",
    "import string\n",
    "from random import shuffle\n",
    "\n",
    "import nltk\n",
    "import pandas as pd\n",
    "from nltk import pos_tag\n",
    "from nltk.stem.wordnet import WordNetLemmatizer\n",
    "from tqdm.notebook import tqdm\n",
    "\n",
    "from nltk.corpus import stopwords\n",
    "from nltk import FreqDist\n",
    "\n",
    "from nltk import classify\n",
    "from nltk import NaiveBayesClassifier\n",
    "\n",
    "import pickle\n",
    "\n",
    "import numpy as np\n",
    "\n",
    "import tensorflow as tf"
   ]
  },
  {
   "cell_type": "code",
   "execution_count": 84,
   "outputs": [
    {
     "name": "stdout",
     "output_type": "stream",
     "text": [
      "Enabling notebook extension jupyter-js-widgets/extension...\r\n",
      "      - Validating: \u001B[32mOK\u001B[0m\r\n"
     ]
    }
   ],
   "source": [
    "!jupyter nbextension enable --py widgetsnbextension"
   ],
   "metadata": {
    "collapsed": false,
    "pycharm": {
     "name": "#%%\n"
    }
   }
  },
  {
   "cell_type": "code",
   "execution_count": 85,
   "outputs": [],
   "source": [
    "def remove_noise(tweet_tokens, stop_words=()):\n",
    "    cleaned_tokens = []\n",
    "\n",
    "    for token, tag in pos_tag(tweet_tokens):\n",
    "        token = re.sub(\"http[s]?://(?:[a-zA-Z]|[0-9]|[$-_@.&+#]|[!*\\(\\),]|(?:%[0-9a-fA-F][0-9a-fA-F]))+\", '', token)\n",
    "        token = re.sub(\"(@[A-Za-z0-9_]+)\", \"\", token)\n",
    "\n",
    "        if tag.startswith(\"NN\"):\n",
    "            pos = 'n'\n",
    "        elif tag.startswith('VB'):\n",
    "            pos = 'v'\n",
    "        else:\n",
    "            pos = 'a'\n",
    "\n",
    "        lemmatizer = WordNetLemmatizer()\n",
    "        token = lemmatizer.lemmatize(token, pos)\n",
    "\n",
    "        if len(token) > 0 and token not in string.punctuation and token.lower() not in stop_words:\n",
    "            cleaned_tokens.append(token.lower())\n",
    "\n",
    "    return cleaned_tokens\n",
    "\n",
    "\n",
    "def get_tweets_for_model(cleaned_tokens):\n",
    "    for tweet_tokens in cleaned_tokens:\n",
    "        yield dict([token, True] for token in tweet_tokens)"
   ],
   "metadata": {
    "collapsed": false,
    "pycharm": {
     "name": "#%%\n"
    }
   }
  },
  {
   "cell_type": "code",
   "execution_count": 86,
   "outputs": [
    {
     "name": "stderr",
     "output_type": "stream",
     "text": [
      "/home/crispy/.cache/pypoetry/virtualenvs/labelhound-hphoLRI7-py3.10/lib/python3.10/site-packages/sklearn/preprocessing/_encoders.py:808: FutureWarning: `sparse` was renamed to `sparse_output` in version 1.2 and will be removed in 1.4. `sparse_output` is ignored unless you leave `sparse` to its default value.\n",
      "  warnings.warn(\n"
     ]
    }
   ],
   "source": [
    "data = pd.read_csv('training_data/data.csv', encoding='latin-1')\n",
    "\n",
    "# Sentiments: 0 = Negative, 2 = Neutral, 4 = Positive\n",
    "data.columns = ['sentiment', 'id', 'date', 'query', 'user', 'text']\n",
    "\n",
    "# Get rid of unnecessary columns\n",
    "data = data.drop(['id', 'date', 'query', 'user'], axis=1)\n",
    "data = data.sample(frac=.3)\n",
    "\n",
    "from sklearn.preprocessing import OneHotEncoder\n",
    "\n",
    "type_one_hot = OneHotEncoder(sparse=False).fit_transform(\n",
    "    data['sentiment'].to_numpy().reshape(-1, 1)\n",
    ")"
   ],
   "metadata": {
    "collapsed": false,
    "pycharm": {
     "name": "#%%\n"
    }
   }
  },
  {
   "cell_type": "code",
   "execution_count": 87,
   "outputs": [],
   "source": [
    "from sklearn.model_selection import train_test_split\n",
    "\n",
    "train_reviews, test_reviews, y_train, y_test = train_test_split(\n",
    "    data.text,\n",
    "    type_one_hot,\n",
    "    test_size=.25\n",
    ")"
   ],
   "metadata": {
    "collapsed": false,
    "pycharm": {
     "name": "#%%\n"
    }
   }
  },
  {
   "cell_type": "code",
   "execution_count": 88,
   "outputs": [
    {
     "name": "stderr",
     "output_type": "stream",
     "text": [
      "100%|██████████| 360000/360000 [5:13:07<00:00, 19.16it/s]  \n"
     ]
    }
   ],
   "source": [
    "import tensorflow_hub as hub\n",
    "from tqdm import tqdm\n",
    "import tensorflow_text\n",
    "\n",
    "use = hub.load(\"https://tfhub.dev/google/universal-sentence-encoder-multilingual-large/3\")\n",
    "\n",
    "X_train = []\n",
    "for r in tqdm(train_reviews):\n",
    "    emb = use(r)\n",
    "    review_emb = tf.reshape(emb, [-1]).numpy()\n",
    "    X_train.append(review_emb)\n",
    "X_train = np.array(X_train)"
   ],
   "metadata": {
    "collapsed": false,
    "pycharm": {
     "name": "#%%\n"
    }
   }
  },
  {
   "cell_type": "code",
   "execution_count": 89,
   "outputs": [
    {
     "name": "stderr",
     "output_type": "stream",
     "text": [
      "100%|██████████| 120000/120000 [1:39:36<00:00, 20.08it/s]\n"
     ]
    }
   ],
   "source": [
    "X_test = []\n",
    "for r in tqdm(test_reviews):\n",
    "    emb = use(r)\n",
    "    review_emb = tf.reshape(emb, [-1]).numpy()\n",
    "    X_test.append(review_emb)\n",
    "X_test = np.array(X_test)"
   ],
   "metadata": {
    "collapsed": false,
    "pycharm": {
     "name": "#%%\n"
    }
   }
  },
  {
   "cell_type": "code",
   "execution_count": 90,
   "outputs": [],
   "source": [
    "from tensorflow import keras\n",
    "\n",
    "model = keras.Sequential()\n",
    "model.add(\n",
    "    keras.layers.Dense(\n",
    "        units=256,\n",
    "        input_shape=(X_train.shape[1],),\n",
    "        activation='relu'\n",
    "    )\n",
    ")\n",
    "model.add(\n",
    "    keras.layers.Dropout(rate=0.5)\n",
    ")\n",
    "model.add(\n",
    "    keras.layers.Dense(\n",
    "        units=128,\n",
    "        activation='relu'\n",
    "    )\n",
    ")\n",
    "model.add(\n",
    "    keras.layers.Dropout(rate=0.5)\n",
    ")\n",
    "model.add(keras.layers.Dense(2, activation='softmax'))  #2\n",
    "model.compile(\n",
    "    loss='categorical_crossentropy',\n",
    "    optimizer=keras.optimizers.Adam(0.001),\n",
    "    metrics=['accuracy']\n",
    ")"
   ],
   "metadata": {
    "collapsed": false,
    "pycharm": {
     "name": "#%%\n"
    }
   }
  },
  {
   "cell_type": "code",
   "execution_count": 91,
   "outputs": [
    {
     "name": "stdout",
     "output_type": "stream",
     "text": [
      "Epoch 1/10\n",
      "20250/20250 [==============================] - 116s 6ms/step - loss: 0.4530 - accuracy: 0.7883 - val_loss: 0.4290 - val_accuracy: 0.8033\n",
      "Epoch 2/10\n",
      "20250/20250 [==============================] - 123s 6ms/step - loss: 0.4357 - accuracy: 0.7988 - val_loss: 0.4258 - val_accuracy: 0.8046\n",
      "Epoch 3/10\n",
      "20250/20250 [==============================] - 123s 6ms/step - loss: 0.4269 - accuracy: 0.8048 - val_loss: 0.4208 - val_accuracy: 0.8076\n",
      "Epoch 4/10\n",
      "20250/20250 [==============================] - 122s 6ms/step - loss: 0.4212 - accuracy: 0.8066 - val_loss: 0.4166 - val_accuracy: 0.8075\n",
      "Epoch 5/10\n",
      "20250/20250 [==============================] - 121s 6ms/step - loss: 0.4161 - accuracy: 0.8102 - val_loss: 0.4204 - val_accuracy: 0.8068\n",
      "Epoch 6/10\n",
      "20250/20250 [==============================] - 120s 6ms/step - loss: 0.4122 - accuracy: 0.8126 - val_loss: 0.4169 - val_accuracy: 0.8077\n",
      "Epoch 7/10\n",
      "20250/20250 [==============================] - 119s 6ms/step - loss: 0.4066 - accuracy: 0.8148 - val_loss: 0.4196 - val_accuracy: 0.8094\n",
      "Epoch 8/10\n",
      "20250/20250 [==============================] - 123s 6ms/step - loss: 0.4031 - accuracy: 0.8165 - val_loss: 0.4170 - val_accuracy: 0.8094\n",
      "Epoch 9/10\n",
      "20250/20250 [==============================] - 124s 6ms/step - loss: 0.3997 - accuracy: 0.8184 - val_loss: 0.4184 - val_accuracy: 0.8082\n",
      "Epoch 10/10\n",
      "20250/20250 [==============================] - 124s 6ms/step - loss: 0.3958 - accuracy: 0.8207 - val_loss: 0.4232 - val_accuracy: 0.8067\n"
     ]
    }
   ],
   "source": [
    "history = model.fit(\n",
    "    X_train, y_train,\n",
    "    epochs=10,\n",
    "    batch_size=16,\n",
    "    validation_split=0.1,\n",
    "    verbose=1,\n",
    "    shuffle=True\n",
    ")"
   ],
   "metadata": {
    "collapsed": false,
    "pycharm": {
     "name": "#%%\n"
    }
   }
  },
  {
   "cell_type": "code",
   "execution_count": 92,
   "outputs": [
    {
     "name": "stdout",
     "output_type": "stream",
     "text": [
      "3750/3750 [==============================] - 12s 3ms/step - loss: 0.4268 - accuracy: 0.8041\n"
     ]
    },
    {
     "data": {
      "text/plain": "[0.42681849002838135, 0.8041166663169861]"
     },
     "execution_count": 92,
     "metadata": {},
     "output_type": "execute_result"
    }
   ],
   "source": [
    "model.evaluate(X_test, y_test)"
   ],
   "metadata": {
    "collapsed": false,
    "pycharm": {
     "name": "#%%\n"
    }
   }
  },
  {
   "cell_type": "code",
   "execution_count": 93,
   "outputs": [
    {
     "name": "stdout",
     "output_type": "stream",
     "text": [
      "man, my legs are killing me  Karina needs to learn how to conrol her shopping \n",
      "[ 2.44514327e-02 -7.66500607e-02 -2.71941349e-02 -2.00951751e-02\n",
      " -1.40204895e-02 -7.09348843e-02 -2.78535057e-02 -9.93064884e-03\n",
      " -3.78731750e-02  2.52701831e-03 -5.29936589e-02  5.58230020e-02\n",
      "  3.33819725e-03  9.06927139e-02 -1.32107334e-02  9.86650437e-02\n",
      "  3.50685157e-02  1.93762761e-02  5.51859513e-02 -1.30026946e-02\n",
      "  2.55867578e-02  5.83649520e-03 -7.94267282e-03 -3.64703611e-02\n",
      " -2.08679028e-02  7.63593335e-03 -4.51187380e-02  4.25460562e-02\n",
      " -2.46053329e-03  2.26143803e-02  7.97883272e-02 -3.43916900e-02\n",
      "  6.28950968e-02 -3.88446487e-02 -2.05555977e-03 -1.71087496e-02\n",
      " -4.13332134e-02 -3.60765532e-02 -2.53885966e-02 -3.51767987e-02\n",
      "  2.96047772e-03 -1.67121403e-02 -7.73802921e-02  7.56391138e-02\n",
      "  1.23799145e-02 -5.70056364e-02 -2.33443025e-02  2.54866295e-03\n",
      "  8.92798067e-04 -1.03220232e-02 -3.31834122e-03  4.79071820e-03\n",
      " -1.86432805e-02  4.77810651e-02  6.61782846e-02 -2.29170527e-02\n",
      "  1.33541720e-02  1.56298280e-02  3.71538661e-02  5.95015399e-02\n",
      " -2.33285353e-02  9.62123200e-02  4.88328338e-02 -1.36677176e-02\n",
      " -1.46003943e-02 -1.23418365e-02 -3.64824198e-02  2.09633145e-03\n",
      " -1.50328055e-02 -4.65548486e-02  4.34123985e-02 -2.36669648e-02\n",
      "  1.50529640e-02 -1.48598896e-02  2.58666221e-02  3.88764702e-02\n",
      "  3.07511669e-02 -2.16993131e-02  2.86150537e-03 -1.85633276e-03\n",
      " -1.24453166e-02 -1.10287577e-01  3.55077460e-02 -5.76495752e-02\n",
      " -1.79870147e-02  8.72994401e-03  3.97656485e-02  1.87319089e-02\n",
      " -1.79955903e-02  5.03110364e-02 -9.31726471e-02 -4.49010767e-02\n",
      "  4.15374599e-02 -3.20632830e-02 -2.86401566e-02 -7.31634721e-02\n",
      "  1.24179767e-02  6.61784336e-02 -4.72905636e-02  6.79716095e-02\n",
      " -2.71001179e-02 -1.67097244e-02  5.82411252e-02  2.16362551e-02\n",
      "  6.47444278e-02  6.35362303e-05 -2.58948598e-02 -1.32441381e-02\n",
      "  4.64764684e-02  5.15766554e-02  3.94718498e-02 -6.85364679e-02\n",
      "  5.51938713e-02  5.23019359e-02 -1.11872710e-01 -2.32783500e-02\n",
      " -3.44083309e-02  1.81034897e-02  6.43321872e-02  4.20463458e-02\n",
      " -8.65010917e-02 -3.67766730e-02  5.34264296e-02  2.46918146e-02\n",
      "  1.06598111e-03 -5.30653447e-02  5.38655818e-02  1.79430917e-02\n",
      "  6.65716976e-02  2.78757848e-02  2.54833084e-02  6.27718940e-02\n",
      "  2.75830440e-02  1.66588183e-02  2.26896573e-02 -2.12989133e-02\n",
      "  1.36757586e-02  5.98579645e-02  4.58369814e-02  3.71602662e-02\n",
      "  3.52663137e-02 -5.91897741e-02  6.53420314e-02  1.53241828e-02\n",
      " -3.35023701e-02 -3.03490292e-02  2.24159267e-02 -4.08183364e-03\n",
      "  4.44997698e-02  2.58708950e-02  6.23158030e-02  5.04266005e-03\n",
      " -3.95588689e-02  9.19989645e-02  2.43189000e-02  3.43927182e-02\n",
      "  3.77071723e-02  2.89658811e-02  9.43559688e-04  1.11744916e-02\n",
      "  9.48663056e-03 -1.46751842e-02  7.73341954e-03  5.36052063e-02\n",
      " -8.18189681e-02 -7.08321035e-02  4.66684401e-02 -6.29775971e-02\n",
      " -2.27962509e-02  6.57369420e-02 -3.76933883e-03  2.42964011e-02\n",
      " -2.19641551e-02  6.88165054e-02  4.67028171e-02 -1.09140975e-02\n",
      "  2.92387940e-02  2.89246556e-03 -1.23611074e-02  8.85331817e-03\n",
      "  2.07660515e-02  2.21013688e-02  5.46697378e-02 -2.53594154e-03\n",
      " -1.38653275e-02 -5.62243164e-02 -3.51219065e-02  6.11582324e-02\n",
      " -6.81020040e-03  3.53143178e-02  8.67744982e-02 -4.60689813e-02\n",
      "  5.62666170e-03  9.36704054e-02  5.75307123e-02 -2.35619657e-02\n",
      "  1.94611102e-02  2.57114563e-02  2.59077176e-02 -3.97153087e-02\n",
      " -4.28263247e-02 -1.24200284e-01 -5.19146360e-02  2.56608035e-02\n",
      " -2.42033210e-02 -2.94215009e-02  8.39058962e-03 -6.40423968e-02\n",
      "  7.38851056e-02 -7.02257501e-03  4.72351648e-02  1.14241736e-02\n",
      " -1.21688254e-01  1.82864163e-02  3.14946100e-02  2.38517746e-02\n",
      "  8.74576811e-03 -2.18297914e-02  8.71824846e-03  6.73646554e-02\n",
      " -2.19876599e-02 -1.07636467e-01 -7.16697276e-02  2.91650835e-03\n",
      " -3.78771573e-02  1.73396319e-02  6.60580248e-02 -3.67549285e-02\n",
      "  2.66767573e-02 -9.95824859e-02  2.35881004e-02  1.57789085e-02\n",
      " -3.79968644e-03  6.28567394e-03 -4.23198901e-02  9.66966078e-02\n",
      " -4.32498790e-02 -5.51968291e-02 -1.73650123e-02 -9.80248209e-03\n",
      " -1.90625638e-02  1.96395051e-02 -4.47171368e-03  2.99053974e-02\n",
      "  3.01675964e-02 -4.45141690e-03  5.02545759e-02  1.90768130e-02\n",
      " -2.63363160e-02  9.05255005e-02 -3.64535116e-02  6.20758422e-02\n",
      "  3.28958295e-02 -3.62254232e-02  3.05480808e-02  1.48900626e-02\n",
      " -9.17547941e-02  7.73375854e-02  2.15383936e-02  2.31317002e-02\n",
      " -2.51918007e-02  1.69095714e-02  8.54347572e-02  1.75233148e-02\n",
      "  2.24601235e-02  1.49748623e-02 -4.40634601e-02  2.88896952e-02\n",
      "  7.84328505e-02 -7.30560422e-02 -4.16896679e-02 -4.28905077e-02\n",
      "  3.19842920e-02 -4.91381139e-02 -2.10586302e-02  5.88563224e-03\n",
      "  2.41177417e-02 -7.14566410e-02  2.32352056e-02  3.61213982e-02\n",
      "  7.53954500e-02  5.51883020e-02 -9.94636863e-03 -1.26837986e-03\n",
      "  8.30231085e-02  1.47395907e-02 -4.07688171e-02 -5.39659942e-03\n",
      "  6.24976028e-03  3.32749411e-02  1.04155652e-02 -3.99340503e-02\n",
      "  1.44713968e-02  5.10856509e-02  3.85952070e-02  3.67352031e-02\n",
      " -6.63880783e-05  6.11670837e-02 -1.01828672e-01 -1.05339244e-01\n",
      " -4.59872978e-03  6.73848251e-03  9.41161346e-03 -3.62455733e-02\n",
      " -5.26294895e-02  3.88879180e-02 -1.43377772e-02  4.39604446e-02\n",
      " -3.17834914e-02  7.68871382e-02 -2.18882784e-02  7.28732422e-02\n",
      " -2.42965575e-02 -2.94218231e-02 -2.09381524e-02 -1.88533589e-02\n",
      " -7.25798076e-03  7.16625750e-02 -6.25837967e-03  2.28229184e-02\n",
      "  1.54659683e-02  1.50351292e-02  5.42514399e-02 -1.77520812e-02\n",
      " -7.67971426e-02 -1.17945887e-01 -1.57990754e-02  1.06364354e-01\n",
      " -4.57141548e-02 -2.74630846e-04  1.14572272e-02 -1.26636950e-02\n",
      "  7.44446367e-02 -3.69878076e-02  6.03917474e-03  2.79877409e-02\n",
      "  2.45124474e-02  1.19048916e-01  2.32485700e-02  1.52955912e-02\n",
      "  3.77429761e-02 -6.10968396e-02  3.24673466e-02 -2.85633956e-04\n",
      "  1.26219727e-02  4.11086939e-02 -1.78982709e-02 -1.66611336e-02\n",
      "  2.24962868e-02  2.11166926e-02  6.19951934e-02 -3.70099768e-02\n",
      " -1.64708085e-02 -1.58409327e-02  3.52957584e-02 -1.66631378e-02\n",
      "  3.98087613e-02 -4.54113893e-02  6.31847009e-02  7.15255272e-03\n",
      " -2.01044399e-02  7.53450617e-02  4.85614920e-03  7.85253197e-02\n",
      "  3.64011563e-02  5.69938682e-04  8.25077295e-02  1.35367513e-02\n",
      "  1.12634584e-01  1.65129676e-02 -4.25667018e-02 -1.12519255e-02\n",
      "  7.65255019e-02 -3.01067922e-02 -2.61814743e-02 -3.72608863e-02\n",
      " -3.25237885e-02 -9.52082798e-02  2.55091246e-02  2.48775654e-03\n",
      " -4.88219671e-02 -7.23240972e-02 -4.60654683e-02 -3.74641605e-02\n",
      " -3.98609526e-02 -4.91940044e-02  2.70281974e-02 -5.04990481e-02\n",
      "  3.15021351e-02  5.97627275e-02  3.63161415e-02 -2.86696129e-03\n",
      "  5.07443585e-02  4.78531569e-02 -5.10659628e-02  3.87162603e-02\n",
      " -5.16299307e-02  2.46437918e-02 -2.08333880e-02 -4.86346856e-02\n",
      "  1.48685295e-02  2.80512888e-02 -3.40066031e-02 -2.68146582e-02\n",
      "  1.99790634e-02 -4.61804768e-04 -3.42983902e-02 -1.55578405e-02\n",
      " -2.47151237e-02  2.98436228e-02 -5.04679307e-02 -2.46406943e-02\n",
      " -1.26021191e-01  3.55531313e-02  6.03087153e-03  4.88409922e-02\n",
      "  6.59638420e-02  2.00905139e-03  6.21827096e-02 -3.42398323e-02\n",
      " -2.61060684e-03  2.27931067e-02 -2.07737591e-02 -5.91955483e-02\n",
      " -4.37076529e-03 -3.22012603e-02 -3.29891853e-02 -1.50097655e-02\n",
      "  2.00197529e-02  2.66640261e-02 -2.52990145e-02 -3.97699475e-02\n",
      "  2.88784448e-02 -1.93017107e-02 -2.42284536e-02 -1.15427906e-02\n",
      " -2.51642559e-02 -8.44628289e-02  9.14277509e-03  1.29740546e-02\n",
      "  4.80466969e-02  6.71147406e-02  2.17410619e-03  4.05599475e-02\n",
      "  5.69857396e-02 -4.60093431e-02  2.45965645e-02  5.79812936e-02\n",
      " -2.87229009e-02  4.77974825e-02  1.78597178e-02 -5.07288128e-02\n",
      "  2.01820526e-02 -5.94696635e-03  2.59069744e-02 -5.26118726e-02\n",
      "  1.74795557e-02  8.38061329e-04 -3.07892002e-02 -3.12773734e-02\n",
      " -3.38458270e-02 -1.03936885e-02  3.79604138e-02  2.69331634e-02\n",
      "  9.33364313e-03  3.59931327e-02  1.19215004e-01  4.66392981e-03\n",
      "  4.26146537e-02 -1.88727509e-02  9.78613421e-02 -6.80130869e-02\n",
      " -3.07454579e-02  6.29494013e-03 -1.94687229e-02  3.61436568e-02\n",
      "  2.42091697e-02  3.27714942e-02 -1.22042408e-03  7.71583468e-02\n",
      " -5.73722459e-02 -3.07586137e-02  6.24131225e-02  4.47581820e-02\n",
      " -9.14522186e-02  1.57087464e-02 -9.33789834e-03 -1.09575121e-02\n",
      " -4.56656851e-02  7.50102699e-02  4.89382036e-02  1.07217692e-02\n",
      "  1.34729967e-02  2.27856822e-03  4.76396829e-03 -3.06241848e-02\n",
      " -1.91001035e-02  2.77232775e-03  5.35297692e-02 -4.13460955e-02\n",
      " -6.97835609e-02 -6.51290044e-02  4.02208455e-02  4.31655683e-02\n",
      "  3.57150063e-02  1.49750588e-02  3.07350140e-02  4.71010134e-02\n",
      "  2.89438497e-02 -1.12572992e-02  4.39200038e-03 -3.68702263e-02]\n",
      "1/1 [==============================] - 0s 143ms/step\n"
     ]
    },
    {
     "data": {
      "text/plain": "array([[0.5948704 , 0.40512964]], dtype=float32)"
     },
     "execution_count": 93,
     "metadata": {},
     "output_type": "execute_result"
    }
   ],
   "source": [
    "print(test_reviews.iloc[2])\n",
    "print(X_test[1])\n",
    "model.predict(X_test[1:2])"
   ],
   "metadata": {
    "collapsed": false,
    "pycharm": {
     "name": "#%%\n"
    }
   }
  },
  {
   "cell_type": "code",
   "execution_count": 94,
   "outputs": [
    {
     "name": "stdout",
     "output_type": "stream",
     "text": [
      "1/1 [==============================] - 0s 109ms/step\n"
     ]
    },
    {
     "data": {
      "text/plain": "{'Twitter is horrible.': 'NEGATIVE',\n 'I love twitter!': 'POSITIVE',\n 'I dunno :(': 'NEGATIVE',\n 'bahaha': 'POSITIVE',\n 'Starlink now has more than 1,000,000 active subscribers – thank you to all customers and members of the Starlink team who contributed to this': 'POSITIVE',\n 'Those who want power are the ones who least deserve it': 'POSITIVE'}"
     },
     "execution_count": 94,
     "metadata": {},
     "output_type": "execute_result"
    }
   ],
   "source": [
    "from sklearn.preprocessing import OneHotEncoder\n",
    "from sklearn.model_selection import train_test_split\n",
    "import tensorflow_hub as hub\n",
    "from tqdm import tqdm\n",
    "import tensorflow_text\n",
    "\n",
    "\n",
    "def evaluate_multiple(strings: list):\n",
    "    data_to_test = np.array(strings)\n",
    "\n",
    "    i_want_this_tested = []\n",
    "    for r in data_to_test:\n",
    "        emb = use(r)\n",
    "        review_emb = tf.reshape(emb, [-1]).numpy()\n",
    "        i_want_this_tested.append(review_emb)\n",
    "    i_want_this_tested = np.array(i_want_this_tested)\n",
    "\n",
    "    return list(model.predict(i_want_this_tested))\n",
    "\n",
    "\n",
    "def evaluate_single(single: str):\n",
    "    return evaluate_multiple([single])\n",
    "\n",
    "\n",
    "desired_strings = [\"Twitter is horrible.\", \"I love twitter!\", \"I dunno :(\", \"bahaha\", \"Starlink now has more than 1,000,000 active subscribers – thank you to all customers and members of the Starlink team who contributed to this\", \"Those who want power are the ones who least deserve it\"]\n",
    "\n",
    "evaluated = evaluate_multiple(desired_strings)\n",
    "\n",
    "output = {}\n",
    "for i in range(len(desired_strings)):\n",
    "    output[desired_strings[i]] = \"POSITIVE\" if evaluated[i].argmax() == 1 else \"NEGATIVE\"\n",
    "\n",
    "output"
   ],
   "metadata": {
    "collapsed": false,
    "pycharm": {
     "name": "#%%\n"
    }
   }
  },
  {
   "cell_type": "code",
   "execution_count": 97,
   "outputs": [
    {
     "name": "stdout",
     "output_type": "stream",
     "text": [
      "Keras weights file (<HDF5 file \"variables.h5\" (mode r+)>) saving:\n",
      "...layers\n",
      "......dense\n",
      ".........vars\n",
      "............0\n",
      "............1\n",
      "......dense_1\n",
      ".........vars\n",
      "............0\n",
      "............1\n",
      "......dense_2\n",
      ".........vars\n",
      "............0\n",
      "............1\n",
      "......dropout\n",
      ".........vars\n",
      "......dropout_1\n",
      ".........vars\n",
      "...metrics\n",
      "......mean\n",
      ".........vars\n",
      "............0\n",
      "............1\n",
      "......mean_metric_wrapper\n",
      ".........vars\n",
      "............0\n",
      "............1\n",
      "...optimizer\n",
      "......vars\n",
      ".........0\n",
      ".........1\n",
      ".........10\n",
      ".........11\n",
      ".........12\n",
      ".........2\n",
      ".........3\n",
      ".........4\n",
      ".........5\n",
      ".........6\n",
      ".........7\n",
      ".........8\n",
      ".........9\n",
      "...vars\n",
      "Keras model archive saving:\n",
      "File Name                                             Modified             Size\n",
      "variables.h5                                   2022-12-20 00:42:12      2001384\n",
      "config.json                                    2022-12-20 00:42:12         2552\n",
      "metadata.json                                  2022-12-20 00:42:12           64\n"
     ]
    }
   ],
   "source": [
    "import pickle\n",
    "\n",
    "saved_model = open(\"models/new_model.pickle\", \"wb\")\n",
    "pickle.dump(model, saved_model)\n",
    "saved_model.close()"
   ],
   "metadata": {
    "collapsed": false,
    "pycharm": {
     "name": "#%%\n"
    }
   }
  }
 ],
 "metadata": {
  "kernelspec": {
   "display_name": "Python 3",
   "language": "python",
   "name": "python3"
  },
  "language_info": {
   "codemirror_mode": {
    "name": "ipython",
    "version": 2
   },
   "file_extension": ".py",
   "mimetype": "text/x-python",
   "name": "python",
   "nbconvert_exporter": "python",
   "pygments_lexer": "ipython2",
   "version": "2.7.6"
  }
 },
 "nbformat": 4,
 "nbformat_minor": 0
}